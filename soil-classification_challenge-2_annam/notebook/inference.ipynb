{
 "cells": [
  {
   "cell_type": "code",
   "execution_count": null,
   "id": "8c19a0e8",
   "metadata": {
    "vscode": {
     "languageId": "plaintext"
    }
   },
   "outputs": [],
   "source": [
    "\"\"\"\n",
    "Author: shivam\n",
    "Team Name: shivam and venikka\n",
    "Team Members: shivam,venikka\n",
    "Leaderboard Rank: 29\n",
    "\"\"\"\n",
    "# This is the notebook used for making the inferences using the model trained.\n"
   ]
  }
 ],
 "metadata": {
  "language_info": {
   "name": "python"
  }
 },
 "nbformat": 4,
 "nbformat_minor": 5
}
